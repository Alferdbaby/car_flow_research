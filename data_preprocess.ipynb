{
 "cells": [
  {
   "cell_type": "code",
   "execution_count": 72,
   "metadata": {},
   "outputs": [],
   "source": [
    "#大目的：选择特征，训练模型并测试\n",
    "#画出监测图"
   ]
  },
  {
   "cell_type": "code",
   "execution_count": 73,
   "metadata": {},
   "outputs": [],
   "source": [
    "import pandas as pd\n",
    "import xgboost as xgb\n",
    "import numpy as np\n",
    "from pandas import DataFrame"
   ]
  },
  {
   "cell_type": "code",
   "execution_count": 74,
   "metadata": {},
   "outputs": [],
   "source": [
    "#获取数据\n",
    "def read_data (data_path):\n",
    "    data = pd.read_excel(data_path)\n",
    "    #print (data.head(5))\n",
    "    return data"
   ]
  },
  {
   "cell_type": "code",
   "execution_count": 91,
   "metadata": {},
   "outputs": [],
   "source": [
    "#修改标签列索引.将数据转化为DMatrix结构\n",
    "def data_preprocess (data):\n",
    "    #将最后一列变为标签列\n",
    "    #print (data.columns)\n",
    "    data.rename(columns = {\"车流量\":\"label\"}, inplace = True)\n",
    "    #print (data.head(5))\n",
    "    #print (len(data))\n",
    "    #将数据拆分为训练集和测试集\n",
    "    bool_list = np.random.rand(len(data)) < 0.8\n",
    "    train_data = data[bool_list]\n",
    "    neg_bool_list = (bool_list == False)\n",
    "    test_data = data[neg_bool_list] \n",
    "    #将数据转换成DMatrix格式，变为符合xgboost模型的数据\n",
    "    data_col_num = train_data.shape[1]\n",
    "    xgb_train = xgb.DMatrix(train_data.iloc[:,:data_col_num], label = train_data.label)\n",
    "    xgb_test = xgb.DMatrix(test_data.iloc[:,:data_col_num], label = test_data.label)\n",
    "    return xgb_train, xgb_test"
   ]
  },
  {
   "cell_type": "code",
   "execution_count": 92,
   "metadata": {},
   "outputs": [],
   "source": [
    "#模型训练\n",
    "def train_model(xgb_train, xgb_test):\n",
    "    #将train_data，test_data分别转换为DMatrix结构\n",
    "    #data_col_num = train_data.shape[1]\n",
    "    #xgb_train = xgb.DMatrix(train_data.iloc[:,:data_col_num], label=train_data.label)\n",
    "    #xgb_test = xgb.DMatrix(test_data.iloc[:,:data_col_num], label=test_data.label)\n",
    "    #定义模型参数\n",
    "    params = {\"objective\":\"reg:linear\", \"booster\":\"gbtree\", \"eta\":0.1, \"min_child_weight\":1, \"max_depth\":5}\n",
    "    num_round = 30\n",
    "    watchlist = [(xgb_train, \"train\"), (xgb_test, \"test\")]\n",
    "    model = xgb.train(params, xgb_train, num_round, watchlist)\n",
    "    model.save_model(\"E:\\\\F_Paper\\\\Xgboost_test\\\\model.xgb\")\n",
    "    print(\"模型训练完成，并存储成功\")"
   ]
  },
  {
   "cell_type": "code",
   "execution_count": 93,
   "metadata": {},
   "outputs": [
    {
     "name": "stdout",
     "output_type": "stream",
     "text": [
      "[21:25:36] WARNING: d:\\build\\xgboost\\xgboost-1.2.1.git\\src\\objective\\regression_obj.cu:174: reg:linear is now deprecated in favor of reg:squarederror.\n",
      "[0]\ttrain-rmse:5324.88184\ttest-rmse:1050.33752\n",
      "[1]\ttrain-rmse:4883.15381\ttest-rmse:878.81500\n",
      "[2]\ttrain-rmse:4480.34912\ttest-rmse:682.95123\n",
      "[3]\ttrain-rmse:4115.32422\ttest-rmse:501.77722\n",
      "[4]\ttrain-rmse:3782.96997\ttest-rmse:311.20673\n",
      "[5]\ttrain-rmse:3479.50439\ttest-rmse:119.60913\n",
      "[6]\ttrain-rmse:3203.83228\ttest-rmse:56.46423\n",
      "[7]\ttrain-rmse:2952.80322\ttest-rmse:2.47107\n",
      "[8]\ttrain-rmse:2725.33472\ttest-rmse:86.26025\n",
      "[9]\ttrain-rmse:2516.23999\ttest-rmse:218.18921\n",
      "[10]\ttrain-rmse:2325.61597\ttest-rmse:348.46484\n",
      "[11]\ttrain-rmse:2152.34668\ttest-rmse:387.58862\n",
      "[12]\ttrain-rmse:1995.09460\ttest-rmse:424.10413\n",
      "[13]\ttrain-rmse:1853.00977\ttest-rmse:516.74512\n",
      "[14]\ttrain-rmse:1723.86365\ttest-rmse:547.14404\n",
      "[15]\ttrain-rmse:1607.29907\ttest-rmse:575.51636\n",
      "[16]\ttrain-rmse:1502.28015\ttest-rmse:652.59168\n",
      "[17]\ttrain-rmse:1405.88599\ttest-rmse:676.03674\n",
      "[18]\ttrain-rmse:1317.20764\ttest-rmse:697.91882\n",
      "[19]\ttrain-rmse:1235.46533\ttest-rmse:718.34216\n",
      "[20]\ttrain-rmse:1159.85657\ttest-rmse:737.40393\n",
      "[21]\ttrain-rmse:1089.73694\ttest-rmse:765.92993\n",
      "[22]\ttrain-rmse:1024.58313\ttest-rmse:781.81909\n",
      "[23]\ttrain-rmse:963.88660\ttest-rmse:807.46606\n",
      "[24]\ttrain-rmse:907.38593\ttest-rmse:831.18945\n",
      "[25]\ttrain-rmse:854.75317\ttest-rmse:851.21265\n",
      "[26]\ttrain-rmse:805.72644\ttest-rmse:862.61768\n",
      "[27]\ttrain-rmse:759.81195\ttest-rmse:882.87988\n",
      "[28]\ttrain-rmse:716.90149\ttest-rmse:901.52124\n",
      "[29]\ttrain-rmse:676.79852\ttest-rmse:916.70752\n",
      "[21:25:36] WARNING: d:\\build\\xgboost\\xgboost-1.2.1.git\\src\\objective\\regression_obj.cu:174: reg:linear is now deprecated in favor of reg:squarederror.\n",
      "模型训练完成，并存储成功\n"
     ]
    }
   ],
   "source": [
    "if __name__ == '__main__':\n",
    "    data_path = 'E://F_Paper/feature_data_preprocess_test.xlsx'\n",
    "    data = read_data(data_path)\n",
    "    xgb_train, xgb_test = data_preprocess(data)\n",
    "    #params = {\"objective\":\"reg:linear\", \"booster\":\"gbtree\", \"eta\":0.1, \"min_child_weight\":1, \"max_depth\":5}\n",
    "    #num_round = 30\n",
    "    #watchlist = [(xgb_train, \"train\"), (xgb_test, \"test\")]\n",
    "    #model = xgb.train(params, xgb_train, num_round, watchlist)\n",
    "    #model.save_model(\"E:\\\\F_Paper\\\\Xgboost_test\\\\model.xgb\")\n",
    "    #print(\"模型训练完成，并存储成功\")\n",
    "    train_model(xgb_train, xgb_test)"
   ]
  },
  {
   "cell_type": "code",
   "execution_count": 88,
   "metadata": {},
   "outputs": [
    {
     "name": "stdout",
     "output_type": "stream",
     "text": [
      "[21:23:08] WARNING: d:\\build\\xgboost\\xgboost-1.2.1.git\\src\\objective\\regression_obj.cu:174: reg:linear is now deprecated in favor of reg:squarederror.\n",
      "[6269.835  3158.9988 6269.835 ]\n"
     ]
    }
   ],
   "source": [
    "#模型测试\n",
    "bst = xgb.Booster()\n",
    "bst.load_model(\"E:\\\\F_Paper\\\\Xgboost_test\\\\model.xgb\")\n",
    "pred = bst.predict(xgb_test)\n",
    "print (pred)"
   ]
  },
  {
   "cell_type": "code",
   "execution_count": null,
   "metadata": {},
   "outputs": [],
   "source": []
  }
 ],
 "metadata": {
  "kernelspec": {
   "display_name": "Python 3",
   "language": "python",
   "name": "python3"
  },
  "language_info": {
   "codemirror_mode": {
    "name": "ipython",
    "version": 3
   },
   "file_extension": ".py",
   "mimetype": "text/x-python",
   "name": "python",
   "nbconvert_exporter": "python",
   "pygments_lexer": "ipython3",
   "version": "3.7.0"
  }
 },
 "nbformat": 4,
 "nbformat_minor": 2
}
