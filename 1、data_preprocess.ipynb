{
 "cells": [
  {
   "cell_type": "code",
   "execution_count": 72,
   "metadata": {},
   "outputs": [],
   "source": [
    "#大目的：选择特征，训练模型并测试\n",
    "#画出监测图"
   ]
  },
  {
   "cell_type": "code",
   "execution_count": 1,
   "metadata": {},
   "outputs": [],
   "source": [
    "import pandas as pd\n",
    "import xgboost as xgb\n",
    "import numpy as np\n",
    "from pandas import DataFrame"
   ]
  },
  {
   "cell_type": "code",
   "execution_count": 2,
   "metadata": {},
   "outputs": [],
   "source": [
    "#获取数据\n",
    "def read_data (data_path):\n",
    "    data = pd.read_excel(data_path)\n",
    "    #print (data.head(5))\n",
    "    return data"
   ]
  },
  {
   "cell_type": "code",
   "execution_count": 3,
   "metadata": {},
   "outputs": [],
   "source": [
    "#修改标签列索引.将数据转化为DMatrix结构\n",
    "def data_preprocess (data):\n",
    "    #将最后一列变为标签列\n",
    "    #print (data.columns)\n",
    "    data.rename(columns = {\"车流量\":\"label\"}, inplace = True)\n",
    "    #print (data.head(5))\n",
    "    #print (len(data))\n",
    "    #将数据拆分为训练集和测试集\n",
    "    bool_list = np.random.rand(len(data)) < 0.8\n",
    "    train_data = data[bool_list]\n",
    "    neg_bool_list = (bool_list == False)\n",
    "    test_data = data[neg_bool_list] \n",
    "    #将数据转换成DMatrix格式，变为符合xgboost模型的数据\n",
    "    data_col_num = train_data.shape[1]\n",
    "    xgb_train = xgb.DMatrix(train_data.iloc[:,:data_col_num], label = train_data.label)\n",
    "    xgb_test = xgb.DMatrix(test_data.iloc[:,:data_col_num], label = test_data.label)\n",
    "    return xgb_train, xgb_test"
   ]
  },
  {
   "cell_type": "code",
   "execution_count": 4,
   "metadata": {},
   "outputs": [],
   "source": [
    "#模型训练\n",
    "def train_model(xgb_train, xgb_test):\n",
    "    #将train_data，test_data分别转换为DMatrix结构\n",
    "    #data_col_num = train_data.shape[1]\n",
    "    #xgb_train = xgb.DMatrix(train_data.iloc[:,:data_col_num], label=train_data.label)\n",
    "    #xgb_test = xgb.DMatrix(test_data.iloc[:,:data_col_num], label=test_data.label)\n",
    "    #定义模型参数\n",
    "    params = {\"objective\":\"reg:linear\", \"booster\":\"gbtree\", \"eta\":0.1, \"min_child_weight\":1, \"max_depth\":5}\n",
    "    num_round = 30\n",
    "    watchlist = [(xgb_train, \"train\"), (xgb_test, \"test\")]\n",
    "    model = xgb.train(params, xgb_train, num_round, watchlist)\n",
    "    model.save_model(\"E:\\\\F_Paper\\\\Xgboost_test\\\\model.xgb\")\n",
    "    print(\"模型训练完成，并存储成功\")"
   ]
  },
  {
   "cell_type": "code",
   "execution_count": 5,
   "metadata": {},
   "outputs": [
    {
     "name": "stdout",
     "output_type": "stream",
     "text": [
      "[19:08:41] WARNING: d:\\build\\xgboost\\xgboost-1.2.1.git\\src\\objective\\regression_obj.cu:174: reg:linear is now deprecated in favor of reg:squarederror.\n",
      "[0]\ttrain-rmse:5227.03516\ttest-rmse:4825.08936\n",
      "[1]\ttrain-rmse:4812.22412\ttest-rmse:4404.12988\n",
      "[2]\ttrain-rmse:4434.12939\ttest-rmse:4007.07764\n",
      "[3]\ttrain-rmse:4090.54077\ttest-rmse:3644.39307\n",
      "[4]\ttrain-rmse:3776.86426\ttest-rmse:3296.94263\n",
      "[5]\ttrain-rmse:3488.78247\ttest-rmse:3037.70019\n",
      "[6]\ttrain-rmse:3225.24121\ttest-rmse:2800.43286\n",
      "[7]\ttrain-rmse:2983.77539\ttest-rmse:2577.95947\n",
      "[8]\ttrain-rmse:2764.08960\ttest-rmse:2346.15649\n",
      "[9]\ttrain-rmse:2561.77881\ttest-rmse:2159.45972\n",
      "[10]\ttrain-rmse:2377.09351\ttest-rmse:1992.68127\n",
      "[11]\ttrain-rmse:2208.51611\ttest-rmse:1837.03235\n",
      "[12]\ttrain-rmse:2054.98828\ttest-rmse:1695.31128\n",
      "[13]\ttrain-rmse:1915.38928\ttest-rmse:1566.52856\n",
      "[14]\ttrain-rmse:1788.68201\ttest-rmse:1449.77649\n",
      "[15]\ttrain-rmse:1674.21960\ttest-rmse:1308.48523\n",
      "[16]\ttrain-rmse:1568.19458\ttest-rmse:1233.41467\n",
      "[17]\ttrain-rmse:1470.98413\ttest-rmse:1165.03320\n",
      "[18]\ttrain-rmse:1381.95508\ttest-rmse:1102.77759\n",
      "[19]\ttrain-rmse:1299.27295\ttest-rmse:1041.61560\n",
      "[20]\ttrain-rmse:1222.43152\ttest-rmse:986.09839\n",
      "[21]\ttrain-rmse:1150.96204\ttest-rmse:935.73834\n",
      "[22]\ttrain-rmse:1084.43701\ttest-rmse:890.08752\n",
      "[23]\ttrain-rmse:1022.16840\ttest-rmse:844.90863\n",
      "[24]\ttrain-rmse:963.95667\ttest-rmse:803.97498\n",
      "[25]\ttrain-rmse:909.50500\ttest-rmse:766.92358\n",
      "[26]\ttrain-rmse:858.56647\ttest-rmse:736.38605\n",
      "[27]\ttrain-rmse:810.76294\ttest-rmse:705.44818\n",
      "[28]\ttrain-rmse:765.97186\ttest-rmse:677.47717\n",
      "[29]\ttrain-rmse:723.98145\ttest-rmse:652.20752\n",
      "[19:08:41] WARNING: d:\\build\\xgboost\\xgboost-1.2.1.git\\src\\objective\\regression_obj.cu:174: reg:linear is now deprecated in favor of reg:squarederror.\n",
      "模型训练完成，并存储成功\n"
     ]
    }
   ],
   "source": [
    "if __name__ == '__main__':\n",
    "    data_path = 'E://F_Paper/feature_data_preprocess_test.xlsx'\n",
    "    data = read_data(data_path)\n",
    "    xgb_train, xgb_test = data_preprocess(data)\n",
    "    #params = {\"objective\":\"reg:linear\", \"booster\":\"gbtree\", \"eta\":0.1, \"min_child_weight\":1, \"max_depth\":5}\n",
    "    #num_round = 30\n",
    "    #watchlist = [(xgb_train, \"train\"), (xgb_test, \"test\")]\n",
    "    #model = xgb.train(params, xgb_train, num_round, watchlist)\n",
    "    #model.save_model(\"E:\\\\F_Paper\\\\Xgboost_test\\\\model.xgb\")\n",
    "    #print(\"模型训练完成，并存储成功\")\n",
    "    train_model(xgb_train, xgb_test)"
   ]
  },
  {
   "cell_type": "code",
   "execution_count": 88,
   "metadata": {},
   "outputs": [
    {
     "name": "stdout",
     "output_type": "stream",
     "text": [
      "[21:23:08] WARNING: d:\\build\\xgboost\\xgboost-1.2.1.git\\src\\objective\\regression_obj.cu:174: reg:linear is now deprecated in favor of reg:squarederror.\n",
      "[6269.835  3158.9988 6269.835 ]\n"
     ]
    }
   ],
   "source": [
    "#模型测试\n",
    "bst = xgb.Booster()\n",
    "bst.load_model(\"E:\\\\F_Paper\\\\Xgboost_test\\\\model.xgb\")\n",
    "pred = bst.predict(xgb_test)\n",
    "print (pred)"
   ]
  },
  {
   "cell_type": "code",
   "execution_count": null,
   "metadata": {},
   "outputs": [],
   "source": []
  }
 ],
 "metadata": {
  "kernelspec": {
   "display_name": "Python 3",
   "language": "python",
   "name": "python3"
  },
  "language_info": {
   "codemirror_mode": {
    "name": "ipython",
    "version": 3
   },
   "file_extension": ".py",
   "mimetype": "text/x-python",
   "name": "python",
   "nbconvert_exporter": "python",
   "pygments_lexer": "ipython3",
   "version": "3.7.0"
  }
 },
 "nbformat": 4,
 "nbformat_minor": 2
}
