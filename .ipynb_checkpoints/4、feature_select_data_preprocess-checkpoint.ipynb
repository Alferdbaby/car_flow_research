{
 "cells": [
  {
   "cell_type": "code",
   "execution_count": 72,
   "metadata": {},
   "outputs": [],
   "source": [
    "#大目的：选择特征，训练模型并测试\n",
    "#画出监测图"
   ]
  },
  {
   "cell_type": "code",
   "execution_count": 77,
   "metadata": {},
   "outputs": [],
   "source": [
    "import pandas as pd\n",
    "import xgboost as xgb\n",
    "import numpy as np\n",
    "from pandas import DataFrame\n",
    "import matplotlib.pyplot as plt"
   ]
  },
  {
   "cell_type": "code",
   "execution_count": 78,
   "metadata": {},
   "outputs": [],
   "source": [
    "#获取数据\n",
    "def read_data (data_path):\n",
    "    data = pd.read_excel(data_path)\n",
    "    #print (data.head(5))\n",
    "    return data"
   ]
  },
  {
   "cell_type": "code",
   "execution_count": 79,
   "metadata": {},
   "outputs": [],
   "source": [
    "#1、对数据进行One_hot编码；2、修改标签列索引；3、将数据转化为DMatrix结构\n",
    "def data_preprocess (data):\n",
    "    #执行one_hot编码(特别注意，one_hot编码后的数据集，列索引顺序发生了改变。\n",
    "    #所以前期xgb_train = xgb.DMatrix(train_data.iloc[:,:data_col_num], label = train_data.label))的代码会有问题，因为最后一列不是label。\n",
    "    data = pd.get_dummies(data)\n",
    "    #print (data.head(5))\n",
    "    \n",
    "    #将最后一列变为标签列\n",
    "    #print (data.columns)\n",
    "    data.rename(columns = {\"车流量\":\"label\"}, inplace = True)\n",
    "    #print (data.head(5))\n",
    "    #print (len(data))\n",
    "    #data = data.drop(columns=\"label\", axis=1)\n",
    "    #print (data)\n",
    "    \n",
    "    #将数据拆分为训练集和测试集\n",
    "    bool_list = np.random.rand(len(data)) < 0.8\n",
    "    train_data = data[bool_list]\n",
    "    neg_bool_list = (bool_list == False)\n",
    "    test_data = data[neg_bool_list] \n",
    "    \n",
    "    #将数据转换成DMatrix格式，变为符合xgboost模型的数据()\n",
    "    \n",
    "    xgb_train = xgb.DMatrix(train_data.drop(columns=\"label\", axis=1), label=train_data.label)\n",
    "    xgb_test = xgb.DMatrix(test_data.drop(columns=\"label\", axis=1), label=test_data.label)\n",
    "    \n",
    "    #这个代码将数据转换成DMatrix格式有问题，来源于one_hot编码时产生。\n",
    "    #data_col_num = train_data.shape[1] - 1 #其次，这里需要-1，不然训练数据train_data.iloc[:,:data_col_num]，会出现索引问题。\n",
    "    #xgb_train = xgb.DMatrix(train_data.iloc[:,:data_col_num], label = train_data.label)\n",
    "    #xgb_test = xgb.DMatrix(test_data.iloc[:,:data_col_num], label = test_data.label)\n",
    "    return xgb_train, xgb_test"
   ]
  },
  {
   "cell_type": "code",
   "execution_count": 80,
   "metadata": {},
   "outputs": [],
   "source": [
    "#模型训练\n",
    "def train_model(xgb_train, xgb_test):\n",
    "    #将train_data，test_data分别转换为DMatrix结构\n",
    "    #data_col_num = train_data.shape[1]\n",
    "    #xgb_train = xgb.DMatrix(train_data.iloc[:,:data_col_num], label=train_data.label)\n",
    "    #xgb_test = xgb.DMatrix(test_data.iloc[:,:data_col_num], label=test_data.label)\n",
    "    \n",
    "    #定义模型参数\n",
    "    params = {\"objective\":\"reg:linear\", \"booster\":\"gbtree\", \"eta\":0.1, \"min_child_weight\":1, \"max_depth\":5}\n",
    "    num_round = 50\n",
    "    watchlist = [(xgb_train, \"train\"), (xgb_test, \"test\")]\n",
    "    model = xgb.train(params, xgb_train, num_round, watchlist)\n",
    "    model.save_model(\"E:\\\\F_Paper\\\\Xgboost_test\\\\model.xgb\")\n",
    "    print(\"模型训练完成，并存储成功\")\n",
    "    return model"
   ]
  },
  {
   "cell_type": "code",
   "execution_count": 81,
   "metadata": {},
   "outputs": [],
   "source": [
    "#对特征的重要性进行排序\n",
    "def feature_importance_sort(model):\n",
    "    xgb.plot_importance(model, height = 0.5)\n",
    "    feature_importance = model.get_fscore()\n",
    "    print (feature_importance)"
   ]
  },
  {
   "cell_type": "code",
   "execution_count": 83,
   "metadata": {
    "collapsed": true
   },
   "outputs": [
    {
     "name": "stdout",
     "output_type": "stream",
     "text": [
      "[21:06:29] WARNING: d:\\build\\xgboost\\xgboost-1.2.1.git\\src\\objective\\regression_obj.cu:174: reg:linear is now deprecated in favor of reg:squarederror.\n",
      "[0]\ttrain-rmse:4689.53857\ttest-rmse:9222.91113\n",
      "[1]\ttrain-rmse:4313.00928\ttest-rmse:8710.64746\n",
      "[2]\ttrain-rmse:3968.84961\ttest-rmse:8242.29199\n",
      "[3]\ttrain-rmse:3653.51929\ttest-rmse:7873.89746\n",
      "[4]\ttrain-rmse:3363.62671\ttest-rmse:7477.26318\n",
      "[5]\ttrain-rmse:3102.30762\ttest-rmse:7156.09326\n",
      "[6]\ttrain-rmse:2858.29541\ttest-rmse:6820.98535\n",
      "[7]\ttrain-rmse:2635.68384\ttest-rmse:6514.60059\n",
      "[8]\ttrain-rmse:2436.30469\ttest-rmse:6275.66309\n",
      "[9]\ttrain-rmse:2249.35718\ttest-rmse:6016.02051\n",
      "[10]\ttrain-rmse:2079.16846\ttest-rmse:5778.63281\n",
      "[11]\ttrain-rmse:1928.32617\ttest-rmse:5586.38330\n",
      "[12]\ttrain-rmse:1783.89600\ttest-rmse:5370.31787\n",
      "[13]\ttrain-rmse:1659.19019\ttest-rmse:5214.58545\n",
      "[14]\ttrain-rmse:1540.81226\ttest-rmse:5179.90137\n",
      "[15]\ttrain-rmse:1431.61218\ttest-rmse:5138.90576\n",
      "[16]\ttrain-rmse:1326.50073\ttest-rmse:4968.67383\n",
      "[17]\ttrain-rmse:1233.09619\ttest-rmse:4934.29541\n",
      "[18]\ttrain-rmse:1143.07996\ttest-rmse:4788.19824\n",
      "[19]\ttrain-rmse:1060.10535\ttest-rmse:4653.78906\n",
      "[20]\ttrain-rmse:983.62286\ttest-rmse:4530.13232\n",
      "[21]\ttrain-rmse:911.66534\ttest-rmse:4538.94385\n",
      "[22]\ttrain-rmse:844.10858\ttest-rmse:4431.54150\n",
      "[23]\ttrain-rmse:783.68817\ttest-rmse:4333.44336\n",
      "[24]\ttrain-rmse:726.02527\ttest-rmse:4241.47314\n",
      "[25]\ttrain-rmse:673.11346\ttest-rmse:4156.86084\n",
      "[26]\ttrain-rmse:625.40051\ttest-rmse:4079.11426\n",
      "[27]\ttrain-rmse:581.65668\ttest-rmse:4061.04639\n",
      "[28]\ttrain-rmse:541.56976\ttest-rmse:4044.33350\n",
      "[29]\ttrain-rmse:504.58627\ttest-rmse:4028.87402\n",
      "[30]\ttrain-rmse:470.06741\ttest-rmse:4012.77246\n",
      "[31]\ttrain-rmse:438.17712\ttest-rmse:3999.47119\n",
      "[32]\ttrain-rmse:408.48923\ttest-rmse:3985.50586\n",
      "[33]\ttrain-rmse:381.24326\ttest-rmse:3974.06738\n",
      "[34]\ttrain-rmse:355.70105\ttest-rmse:3962.47656\n",
      "[35]\ttrain-rmse:332.05096\ttest-rmse:3951.75488\n",
      "[36]\ttrain-rmse:309.09348\ttest-rmse:3955.83740\n",
      "[37]\ttrain-rmse:288.95093\ttest-rmse:3949.70068\n",
      "[38]\ttrain-rmse:270.33066\ttest-rmse:3943.87061\n",
      "[39]\ttrain-rmse:251.49333\ttest-rmse:3929.14062\n",
      "[40]\ttrain-rmse:235.36182\ttest-rmse:3922.76856\n",
      "[41]\ttrain-rmse:220.45380\ttest-rmse:3916.87451\n",
      "[42]\ttrain-rmse:205.33177\ttest-rmse:3905.67578\n",
      "[43]\ttrain-rmse:192.51984\ttest-rmse:3900.70947\n",
      "[44]\ttrain-rmse:179.54141\ttest-rmse:3891.94141\n",
      "[45]\ttrain-rmse:168.51296\ttest-rmse:3887.89697\n",
      "[46]\ttrain-rmse:158.27519\ttest-rmse:3882.22607\n",
      "[47]\ttrain-rmse:148.79634\ttest-rmse:3877.00879\n",
      "[48]\ttrain-rmse:139.01092\ttest-rmse:3870.15039\n",
      "[49]\ttrain-rmse:130.87796\ttest-rmse:3867.19580\n",
      "[21:06:29] WARNING: d:\\build\\xgboost\\xgboost-1.2.1.git\\src\\objective\\regression_obj.cu:174: reg:linear is now deprecated in favor of reg:squarederror.\n",
      "模型训练完成，并存储成功\n"
     ]
    }
   ],
   "source": [
    "if __name__ == '__main__':\n",
    "    data_path = 'E://F_Paper/one_hot feature data preprocess test.xlsx'\n",
    "    data = read_data(data_path)\n",
    "    xgb_train, xgb_test = data_preprocess(data)\n",
    "    #params = {\"objective\":\"reg:linear\", \"booster\":\"gbtree\", \"eta\":0.1, \"min_child_weight\":1, \"max_depth\":5}\n",
    "    #num_round = 30\n",
    "    #watchlist = [(xgb_train, \"train\"), (xgb_test, \"test\")]\n",
    "    #model = xgb.train(params, xgb_train, num_round, watchlist)\n",
    "    #model.save_model(\"E:\\\\F_Paper\\\\Xgboost_test\\\\model.xgb\")\n",
    "    #print(\"模型训练完成，并存储成功\")\n",
    "    model = train_model(xgb_train, xgb_test)"
   ]
  },
  {
   "cell_type": "code",
   "execution_count": 84,
   "metadata": {},
   "outputs": [
    {
     "name": "stdout",
     "output_type": "stream",
     "text": [
      "{'res空气质量指数': 68, 'air空气质量污染指数': 51, 'res颗粒物一小时平均浓度': 67, '湿度': 21, '最低温度': 16}\n"
     ]
    },
    {
     "data": {
      "image/png": "[encoded data removed]",
      "text/plain": [
       "<Figure size 432x288 with 1 Axes>"
      ]
     },
     "metadata": {
      "needs_background": "light"
     },
     "output_type": "display_data"
    }
   ],
   "source": [
    "if __name__=='__main__':\n",
    "    feature_importance_sort(model)"
   ]
  },
  {
   "cell_type": "code",
   "execution_count": 85,
   "metadata": {},
   "outputs": [
    {
     "name": "stdout",
     "output_type": "stream",
     "text": [
      "[21:06:44] WARNING: d:\\build\\xgboost\\xgboost-1.2.1.git\\src\\objective\\regression_obj.cu:174: reg:linear is now deprecated in favor of reg:squarederror.\n",
      "[5866.804]\n"
     ]
    }
   ],
   "source": [
    "#模型测试\n",
    "bst = xgb.Booster()\n",
    "bst.load_model(\"E:\\\\F_Paper\\\\Xgboost_test\\\\model.xgb\")\n",
    "pred = bst.predict(xgb_test)\n",
    "print (pred)"
   ]
  },
  {
   "cell_type": "code",
   "execution_count": null,
   "metadata": {},
   "outputs": [],
   "source": []
  }
 ],
 "metadata": {
  "kernelspec": {
   "display_name": "Python 3",
   "language": "python",
   "name": "python3"
  },
  "language_info": {
   "codemirror_mode": {
    "name": "ipython",
    "version": 3
   },
   "file_extension": ".py",
   "mimetype": "text/x-python",
   "name": "python",
   "nbconvert_exporter": "python",
   "pygments_lexer": "ipython3",
   "version": "3.7.0"
  }
 },
 "nbformat": 4,
 "nbformat_minor": 2
}
