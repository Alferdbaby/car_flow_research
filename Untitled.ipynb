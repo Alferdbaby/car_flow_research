{
 "cells": [
  {
   "cell_type": "code",
   "execution_count": 1,
   "metadata": {},
   "outputs": [],
   "source": [
    "import pandas as pd\n",
    "import numpy as np"
   ]
  },
  {
   "cell_type": "code",
   "execution_count": 2,
   "metadata": {},
   "outputs": [
    {
     "data": {
      "text/html": [
       "<div>\n",
       "<style scoped>\n",
       "    .dataframe tbody tr th:only-of-type {\n",
       "        vertical-align: middle;\n",
       "    }\n",
       "\n",
       "    .dataframe tbody tr th {\n",
       "        vertical-align: top;\n",
       "    }\n",
       "\n",
       "    .dataframe thead th {\n",
       "        text-align: right;\n",
       "    }\n",
       "</style>\n",
       "<table border=\"1\" class=\"dataframe\">\n",
       "  <thead>\n",
       "    <tr style=\"text-align: right;\">\n",
       "      <th></th>\n",
       "      <th>res颗粒物一小时平均浓度</th>\n",
       "      <th>res空气质量指数</th>\n",
       "      <th>res颗粒物日滑动平均浓度</th>\n",
       "      <th>air空气质量污染指数</th>\n",
       "      <th>降雨量</th>\n",
       "      <th>风速</th>\n",
       "      <th>最低温度</th>\n",
       "      <th>湿度</th>\n",
       "      <th>车流量</th>\n",
       "    </tr>\n",
       "  </thead>\n",
       "  <tbody>\n",
       "    <tr>\n",
       "      <th>0</th>\n",
       "      <td>54</td>\n",
       "      <td>82</td>\n",
       "      <td>46</td>\n",
       "      <td>109</td>\n",
       "      <td>0</td>\n",
       "      <td>1.4</td>\n",
       "      <td>17.0</td>\n",
       "      <td>73.0</td>\n",
       "      <td>6978</td>\n",
       "    </tr>\n",
       "    <tr>\n",
       "      <th>1</th>\n",
       "      <td>73</td>\n",
       "      <td>77</td>\n",
       "      <td>56</td>\n",
       "      <td>173</td>\n",
       "      <td>0</td>\n",
       "      <td>1.4</td>\n",
       "      <td>20.0</td>\n",
       "      <td>73.0</td>\n",
       "      <td>4891</td>\n",
       "    </tr>\n",
       "    <tr>\n",
       "      <th>2</th>\n",
       "      <td>83</td>\n",
       "      <td>113</td>\n",
       "      <td>76</td>\n",
       "      <td>120</td>\n",
       "      <td>0</td>\n",
       "      <td>1.4</td>\n",
       "      <td>16.0</td>\n",
       "      <td>73.0</td>\n",
       "      <td>3791</td>\n",
       "    </tr>\n",
       "    <tr>\n",
       "      <th>3</th>\n",
       "      <td>54</td>\n",
       "      <td>74</td>\n",
       "      <td>54</td>\n",
       "      <td>132</td>\n",
       "      <td>0</td>\n",
       "      <td>1.4</td>\n",
       "      <td>17.0</td>\n",
       "      <td>73.0</td>\n",
       "      <td>5223</td>\n",
       "    </tr>\n",
       "    <tr>\n",
       "      <th>4</th>\n",
       "      <td>74</td>\n",
       "      <td>100</td>\n",
       "      <td>75</td>\n",
       "      <td>191</td>\n",
       "      <td>0</td>\n",
       "      <td>1.8</td>\n",
       "      <td>19.0</td>\n",
       "      <td>75.0</td>\n",
       "      <td>2376</td>\n",
       "    </tr>\n",
       "  </tbody>\n",
       "</table>\n",
       "</div>"
      ],
      "text/plain": [
       "   res颗粒物一小时平均浓度  res空气质量指数  res颗粒物日滑动平均浓度  air空气质量污染指数  降雨量   风速  最低温度    湿度  \\\n",
       "0             54         82             46          109    0  1.4  17.0  73.0   \n",
       "1             73         77             56          173    0  1.4  20.0  73.0   \n",
       "2             83        113             76          120    0  1.4  16.0  73.0   \n",
       "3             54         74             54          132    0  1.4  17.0  73.0   \n",
       "4             74        100             75          191    0  1.8  19.0  75.0   \n",
       "\n",
       "    车流量  \n",
       "0  6978  \n",
       "1  4891  \n",
       "2  3791  \n",
       "3  5223  \n",
       "4  2376  "
      ]
     },
     "execution_count": 2,
     "metadata": {},
     "output_type": "execute_result"
    }
   ],
   "source": [
    "data = pd.read_excel(\"E://F_Paper/feature_data_preprocess_test.xlsx\")\n",
    "data.head(5)"
   ]
  },
  {
   "cell_type": "code",
   "execution_count": 3,
   "metadata": {},
   "outputs": [
    {
     "name": "stdout",
     "output_type": "stream",
     "text": [
      "9\n"
     ]
    }
   ],
   "source": [
    "print (data.shape[1])"
   ]
  },
  {
   "cell_type": "code",
   "execution_count": null,
   "metadata": {},
   "outputs": [],
   "source": []
  }
 ],
 "metadata": {
  "kernelspec": {
   "display_name": "Python 3",
   "language": "python",
   "name": "python3"
  },
  "language_info": {
   "codemirror_mode": {
    "name": "ipython",
    "version": 3
   },
   "file_extension": ".py",
   "mimetype": "text/x-python",
   "name": "python",
   "nbconvert_exporter": "python",
   "pygments_lexer": "ipython3",
   "version": "3.7.0"
  }
 },
 "nbformat": 4,
 "nbformat_minor": 2
}
