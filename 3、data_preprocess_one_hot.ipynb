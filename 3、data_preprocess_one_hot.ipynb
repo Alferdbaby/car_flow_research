{
 "cells": [
  {
   "cell_type": "code",
   "execution_count": 72,
   "metadata": {},
   "outputs": [],
   "source": [
    "#大目的：选择特征，训练模型并测试\n",
    "#画出监测图"
   ]
  },
  {
   "cell_type": "code",
   "execution_count": 4,
   "metadata": {},
   "outputs": [],
   "source": [
    "import pandas as pd\n",
    "import xgboost as xgb\n",
    "import numpy as np\n",
    "from pandas import DataFrame"
   ]
  },
  {
   "cell_type": "code",
   "execution_count": 5,
   "metadata": {},
   "outputs": [],
   "source": [
    "#获取数据\n",
    "def read_data (data_path):\n",
    "    data = pd.read_excel(data_path)\n",
    "    #print (data.head(5))\n",
    "    return data"
   ]
  },
  {
   "cell_type": "code",
   "execution_count": 10,
   "metadata": {},
   "outputs": [],
   "source": [
    "#1、对数据进行One_hot编码；2、修改标签列索引；3、将数据转化为DMatrix结构\n",
    "def data_preprocess (data):\n",
    "    #执行one_hot编码\n",
    "    data = pd.get_dummies(data)\n",
    "    #print (data.head(5))\n",
    "    \n",
    "    #将最后一列变为标签列\n",
    "    #print (data.columns)\n",
    "    data.rename(columns = {\"车流量\":\"label\"}, inplace = True)\n",
    "    #print (data.head(5))\n",
    "    #print (len(data))\n",
    "    \n",
    "    #将数据拆分为训练集和测试集\n",
    "    bool_list = np.random.rand(len(data)) < 0.8\n",
    "    train_data = data[bool_list]\n",
    "    neg_bool_list = (bool_list == False)\n",
    "    test_data = data[neg_bool_list] \n",
    "    \n",
    "    #将数据转换成DMatrix格式，变为符合xgboost模型的数据\n",
    "    data_col_num = train_data.shape[1]\n",
    "    xgb_train = xgb.DMatrix(train_data.iloc[:,:data_col_num], label = train_data.label)\n",
    "    xgb_test = xgb.DMatrix(test_data.iloc[:,:data_col_num], label = test_data.label)\n",
    "    return xgb_train, xgb_test"
   ]
  },
  {
   "cell_type": "code",
   "execution_count": 11,
   "metadata": {},
   "outputs": [],
   "source": [
    "#模型训练\n",
    "def train_model(xgb_train, xgb_test):\n",
    "    #将train_data，test_data分别转换为DMatrix结构\n",
    "    #data_col_num = train_data.shape[1]\n",
    "    #xgb_train = xgb.DMatrix(train_data.iloc[:,:data_col_num], label=train_data.label)\n",
    "    #xgb_test = xgb.DMatrix(test_data.iloc[:,:data_col_num], label=test_data.label)\n",
    "    \n",
    "    #定义模型参数\n",
    "    params = {\"objective\":\"reg:linear\", \"booster\":\"gbtree\", \"eta\":0.1, \"min_child_weight\":1, \"max_depth\":5}\n",
    "    num_round = 30\n",
    "    watchlist = [(xgb_train, \"train\"), (xgb_test, \"test\")]\n",
    "    model = xgb.train(params, xgb_train, num_round, watchlist)\n",
    "    model.save_model(\"E:\\\\F_Paper\\\\Xgboost_test\\\\model.xgb\")\n",
    "    print(\"模型训练完成，并存储成功\")"
   ]
  },
  {
   "cell_type": "code",
   "execution_count": 12,
   "metadata": {},
   "outputs": [
    {
     "name": "stdout",
     "output_type": "stream",
     "text": [
      "   res颗粒物一小时平均浓度  res空气质量指数  res颗粒物日滑动平均浓度  air空气质量污染指数  降雨量   风速  最低温度    湿度  \\\n",
      "0             54         82             46          109    0  1.4  17.0  73.0   \n",
      "1             73         77             56          173    0  1.4  20.0  73.0   \n",
      "2             83        113             76          120    0  1.4  16.0  73.0   \n",
      "3             54         74             54          132    0  1.4  17.0  73.0   \n",
      "4             74        100             75          191    0  1.8  19.0  75.0   \n",
      "\n",
      "    车流量  air空气质量_中度污染  air空气质量_轻度污染  air空气指数颜色_橙色  air空气指数颜色_红色  \n",
      "0  6978             0             1             1             0  \n",
      "1  4891             1             0             0             1  \n",
      "2  3791             0             1             1             0  \n",
      "3  5223             0             1             1             0  \n",
      "4  2376             1             0             0             1  \n",
      "[19:25:29] WARNING: d:\\build\\xgboost\\xgboost-1.2.1.git\\src\\objective\\regression_obj.cu:174: reg:linear is now deprecated in favor of reg:squarederror.\n",
      "[0]\ttrain-rmse:5424.85059\ttest-rmse:4409.83887\n",
      "[1]\ttrain-rmse:4994.74707\ttest-rmse:4016.92212\n",
      "[2]\ttrain-rmse:4603.45166\ttest-rmse:3658.90186\n",
      "[3]\ttrain-rmse:4248.23633\ttest-rmse:3354.67114\n",
      "[4]\ttrain-rmse:3924.52881\ttest-rmse:3057.23169\n",
      "[5]\ttrain-rmse:3628.04199\ttest-rmse:2770.92554\n",
      "[6]\ttrain-rmse:3354.50171\ttest-rmse:2553.49048\n",
      "[7]\ttrain-rmse:3104.16064\ttest-rmse:2358.28931\n",
      "[8]\ttrain-rmse:2875.25342\ttest-rmse:2183.90259\n",
      "[9]\ttrain-rmse:2666.15698\ttest-rmse:2029.00476\n",
      "[10]\ttrain-rmse:2475.37915\ttest-rmse:1892.34241\n",
      "[11]\ttrain-rmse:2301.54712\ttest-rmse:1772.70789\n",
      "[12]\ttrain-rmse:2144.73682\ttest-rmse:1639.05896\n",
      "[13]\ttrain-rmse:2000.53394\ttest-rmse:1547.56921\n",
      "[14]\ttrain-rmse:1869.78564\ttest-rmse:1469.52844\n",
      "[15]\ttrain-rmse:1751.48621\ttest-rmse:1403.78943\n",
      "[16]\ttrain-rmse:1644.69885\ttest-rmse:1349.19165\n",
      "[17]\ttrain-rmse:1545.76648\ttest-rmse:1323.64710\n",
      "[18]\ttrain-rmse:1453.89844\ttest-rmse:1305.14258\n",
      "[19]\ttrain-rmse:1368.25549\ttest-rmse:1285.25708\n",
      "[20]\ttrain-rmse:1288.44971\ttest-rmse:1268.21936\n",
      "[21]\ttrain-rmse:1214.05188\ttest-rmse:1260.53223\n",
      "[22]\ttrain-rmse:1144.51624\ttest-rmse:1248.39392\n",
      "[23]\ttrain-rmse:1079.58606\ttest-rmse:1238.08081\n",
      "[24]\ttrain-rmse:1018.91528\ttest-rmse:1229.34143\n",
      "[25]\ttrain-rmse:962.06927\ttest-rmse:1214.89722\n",
      "[26]\ttrain-rmse:908.83789\ttest-rmse:1215.18359\n",
      "[27]\ttrain-rmse:858.80335\ttest-rmse:1204.57349\n",
      "[28]\ttrain-rmse:811.81763\ttest-rmse:1195.12061\n",
      "[29]\ttrain-rmse:767.63300\ttest-rmse:1187.18286\n",
      "[19:25:29] WARNING: d:\\build\\xgboost\\xgboost-1.2.1.git\\src\\objective\\regression_obj.cu:174: reg:linear is now deprecated in favor of reg:squarederror.\n",
      "模型训练完成，并存储成功\n"
     ]
    }
   ],
   "source": [
    "if __name__ == '__main__':\n",
    "    data_path = 'E://F_Paper/one_hot feature data preprocess test.xlsx'\n",
    "    data = read_data(data_path)\n",
    "    xgb_train, xgb_test = data_preprocess(data)\n",
    "    #params = {\"objective\":\"reg:linear\", \"booster\":\"gbtree\", \"eta\":0.1, \"min_child_weight\":1, \"max_depth\":5}\n",
    "    #num_round = 30\n",
    "    #watchlist = [(xgb_train, \"train\"), (xgb_test, \"test\")]\n",
    "    #model = xgb.train(params, xgb_train, num_round, watchlist)\n",
    "    #model.save_model(\"E:\\\\F_Paper\\\\Xgboost_test\\\\model.xgb\")\n",
    "    #print(\"模型训练完成，并存储成功\")\n",
    "    train_model(xgb_train, xgb_test)"
   ]
  },
  {
   "cell_type": "code",
   "execution_count": 9,
   "metadata": {},
   "outputs": [
    {
     "name": "stdout",
     "output_type": "stream",
     "text": [
      "[19:25:10] WARNING: d:\\build\\xgboost\\xgboost-1.2.1.git\\src\\objective\\regression_obj.cu:174: reg:linear is now deprecated in favor of reg:squarederror.\n",
      "[6231.124 6231.124 4923.322]\n"
     ]
    }
   ],
   "source": [
    "#模型测试\n",
    "bst = xgb.Booster()\n",
    "bst.load_model(\"E:\\\\F_Paper\\\\Xgboost_test\\\\model.xgb\")\n",
    "pred = bst.predict(xgb_test)\n",
    "print (pred)"
   ]
  },
  {
   "cell_type": "code",
   "execution_count": null,
   "metadata": {},
   "outputs": [],
   "source": []
  }
 ],
 "metadata": {
  "kernelspec": {
   "display_name": "Python 3",
   "language": "python",
   "name": "python3"
  },
  "language_info": {
   "codemirror_mode": {
    "name": "ipython",
    "version": 3
   },
   "file_extension": ".py",
   "mimetype": "text/x-python",
   "name": "python",
   "nbconvert_exporter": "python",
   "pygments_lexer": "ipython3",
   "version": "3.7.0"
  }
 },
 "nbformat": 4,
 "nbformat_minor": 2
}
